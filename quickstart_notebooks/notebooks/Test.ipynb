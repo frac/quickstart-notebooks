{
 "cells": [
  {
   "cell_type": "code",
   "execution_count": null,
   "metadata": {},
   "outputs": [],
   "source": [
    "import os\n",
    "from __future__ import print_function\n",
    "\n",
    "creds = {\n",
    "    \"username\": os.environ.get('OS_USERNAME'),\n",
    "    \"api_key\": os.environ.get('OS_PASSWORD'),\n",
    "    \"project_name\": os.environ.get('OS_PROJECT_NAME'),\n",
    "    \"auth_url\": \"{}{}\".format(os.environ.get('OS_AUTH_URL'), \"\"),\n",
    "    \"insecure\": True,\n",
    "    #\"user_domain_name\": os.environ.get('OS_USER_DOMAIN_NAME'),\n",
    "    #\"project_domain_name\": os.environ.get('OS_PROJECT_DOMAIN_NAME'),\n",
    "    #\"mistral_url\": \"http://192.168.24.1:8989/v2\",\n",
    "}\n",
    "print(creds)"
   ]
  },
  {
   "cell_type": "code",
   "execution_count": null,
   "metadata": {},
   "outputs": [],
   "source": [
    "from mistralclient.api.client import client\n",
    "cli = client(**creds)\n",
    "print(\"done\")"
   ]
  },
  {
   "cell_type": "code",
   "execution_count": null,
   "metadata": {},
   "outputs": [],
   "source": [
    "for ex_item in cli.executions.list():\n",
    "    if ex_item.state == 'ERROR':\n",
    "        print(ex_item.id, ex_item.workflow_id, ex_item.workflow_name,  ex_item.state)"
   ]
  },
  {
   "cell_type": "code",
   "execution_count": null,
   "metadata": {},
   "outputs": [],
   "source": [
    "\n"
   ]
  },
  {
   "cell_type": "code",
   "execution_count": null,
   "metadata": {},
   "outputs": [],
   "source": []
  },
  {
   "cell_type": "code",
   "execution_count": null,
   "metadata": {
    "collapsed": true
   },
   "outputs": [],
   "source": []
  }
 ],
 "metadata": {
  "kernelspec": {
   "display_name": "Python 2",
   "language": "python",
   "name": "python2"
  },
  "language_info": {
   "codemirror_mode": {
    "name": "ipython",
    "version": 2
   },
   "file_extension": ".py",
   "mimetype": "text/x-python",
   "name": "python",
   "nbconvert_exporter": "python",
   "pygments_lexer": "ipython2",
   "version": "2.7.5"
  }
 },
 "nbformat": 4,
 "nbformat_minor": 2
}
